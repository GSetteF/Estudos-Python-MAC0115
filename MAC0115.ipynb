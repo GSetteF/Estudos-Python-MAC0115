{
  "nbformat": 4,
  "nbformat_minor": 0,
  "metadata": {
    "colab": {
      "provenance": [],
      "include_colab_link": true
    },
    "kernelspec": {
      "name": "python3",
      "display_name": "Python 3"
    },
    "language_info": {
      "name": "python"
    }
  },
  "cells": [
    {
      "cell_type": "markdown",
      "metadata": {
        "id": "view-in-github",
        "colab_type": "text"
      },
      "source": [
        "<a href=\"https://colab.research.google.com/github/GSetteF/Estudos-Python-MAC0115/blob/main/MAC0115.ipynb\" target=\"_parent\"><img src=\"https://colab.research.google.com/assets/colab-badge.svg\" alt=\"Open In Colab\"/></a>"
      ]
    },
    {
      "cell_type": "markdown",
      "source": [
        "Questões"
      ],
      "metadata": {
        "id": "O-AU-tKlN39e"
      }
    },
    {
      "cell_type": "markdown",
      "source": [
        "Notebook para guardar todas as questões/resoluções de MAC_0115 (introdução a Computação)"
      ],
      "metadata": {
        "id": "hGIk4A-SNlRO"
      }
    },
    {
      "cell_type": "code",
      "source": [
        "print(\"Hello World!\")"
      ],
      "metadata": {
        "colab": {
          "base_uri": "https://localhost:8080/"
        },
        "id": "ojxTk3_qNxtU",
        "outputId": "c79b7ddb-7a41-454a-e13a-8e8dad4cd52f"
      },
      "execution_count": null,
      "outputs": [
        {
          "output_type": "stream",
          "name": "stdout",
          "text": [
            "Hello World!\n"
          ]
        }
      ]
    },
    {
      "cell_type": "markdown",
      "source": [
        " **Questão 1** - Dados dois números inteiros n e d, com n >= 0 e d > 0, existem dois números inteiros únicos q e r, com 0 <= r <= d - 1 tais que n = d * q + r. Chamamos q de quociente da divisão de n por d e r de resto da divisão de n por d. Escreva um programa que lê dois números inteiros e imprime os valores de q e de r conforme a expressão n = d * q + r, se o resto for zero, podemos simplesmente escrever n = d * q. Abaixo temos alguns exemplos de entrada e saída.\n",
        "\n",
        "Exemplo 1:\n",
        "\n",
        "Entrada\n",
        "18\n",
        "5\n",
        "Saída\n",
        "18 = 5 * 3 + 3"
      ],
      "metadata": {
        "id": "2KHe3jehOGp7"
      }
    },
    {
      "cell_type": "code",
      "source": [
        "#leitura de n e d\n",
        "n = int(input())\n",
        "d = int(input())\n",
        "\n",
        "#determinando q e r\n",
        "q = n//d\n",
        "r = n%d\n",
        "\n",
        "#logica para o print\n",
        "if r == 0:\n",
        "  print(n,\" = \",d,\" * \",q)\n",
        "else:\n",
        "  print(n,\" = \",d,\" * \",q,\" + \",r)"
      ],
      "metadata": {
        "id": "-Va8A04sOP9U",
        "colab": {
          "base_uri": "https://localhost:8080/"
        },
        "outputId": "40c4b254-d2fa-4077-b2c6-c15c4bab883f"
      },
      "execution_count": null,
      "outputs": [
        {
          "output_type": "stream",
          "name": "stdout",
          "text": [
            "5\n",
            "3\n",
            "5  =  3  *  1  +  2\n"
          ]
        }
      ]
    },
    {
      "cell_type": "markdown",
      "source": [
        "Questão 2 - Escreva um programa em que a primeira entrada n > 0 é o tamanho de uma lista de números. As próximas n entradas serão os itens desta lista, números inteiros. Após a leitura das entradas, o seu programa deve imprimir o menor e o maior número desta lista, nessa ordem."
      ],
      "metadata": {
        "id": "jiCkJ4bzQggv"
      }
    },
    {
      "cell_type": "code",
      "source": [
        "n = int(input()) #tamanho da lista\n",
        "i = 0 #contador\n",
        "\n",
        "i1 = int(input()) #primeiro elemento da lista\n",
        "maior = i1\n",
        "menor = i1\n",
        "\n",
        "while(i<n-1):\n",
        "\n",
        "  x = int(input())\n",
        "\n",
        "  if x > i1: #verificar se é maior\n",
        "    maior = x\n",
        "  elif x < i1: #verificar se é menor\n",
        "    menor = x\n",
        "\n",
        "  i+=1\n",
        "print(menor,maior)"
      ],
      "metadata": {
        "id": "YneYlCbWQ2wM",
        "colab": {
          "base_uri": "https://localhost:8080/"
        },
        "outputId": "81ed64cb-762c-4f26-fd7c-788f2144b86a"
      },
      "execution_count": null,
      "outputs": [
        {
          "output_type": "stream",
          "name": "stdout",
          "text": [
            "2\n",
            "1\n",
            "2\n",
            "1 2\n"
          ]
        }
      ]
    },
    {
      "cell_type": "markdown",
      "source": [
        "Questão 3 - Escreva um programa que lê um número n>0 e imprime o valor de Fn (Fibonnaci)"
      ],
      "metadata": {
        "id": "FuKvw2cGWJlV"
      }
    },
    {
      "cell_type": "code",
      "source": [
        "def fib(x): #obs criei uma função pois achei mais facil fazer a questao de forma recursiva\n",
        "  if (x == 1) or (x == 2):\n",
        "    return 1\n",
        "  else:\n",
        "    return fib(x-1)+fib(x-2)\n",
        "\n",
        "n = int(input()) #valor para leitura\n",
        "\n",
        "print(fib(n))"
      ],
      "metadata": {
        "id": "L99UNSHMZjfZ"
      },
      "execution_count": null,
      "outputs": []
    },
    {
      "cell_type": "code",
      "source": [
        "#OBS: Nesse caso não podia usar esse tipo de função então tem-se:\n",
        "n = int(input())\n",
        "\n",
        "if n == 1 or n == 2:\n",
        "  print(\"1\")\n",
        "else:\n",
        "  n1 = 1\n",
        "  n2 = 1\n",
        "  i = 3\n",
        "  soma = 0\n",
        "  while i < n:\n",
        "    soma = n1 + n2\n",
        "    n1 = n2\n",
        "    n2 = soma\n",
        "    i = i + 1\n",
        "  print((n1+n2))"
      ],
      "metadata": {
        "id": "t5xshR4SzwTY"
      },
      "execution_count": null,
      "outputs": []
    },
    {
      "cell_type": "markdown",
      "source": [
        "Questão 4 - Escreva um programa que terá como entrada um número inteiro N e terá como saída a soma dos números de 1 a N que sejam multiplos de 2 ou 3."
      ],
      "metadata": {
        "id": "MZx_SmZlZkva"
      }
    },
    {
      "cell_type": "code",
      "source": [
        "n = int(input())\n",
        "i = 0\n",
        "soma = 0\n",
        "\n",
        "while i < n+1 :\n",
        "  if (i%2 == 0) or (i%3 == 0):\n",
        "    soma = soma + i\n",
        "  i+=1\n",
        "print(soma)"
      ],
      "metadata": {
        "id": "ZlaK-mugZqpG",
        "colab": {
          "base_uri": "https://localhost:8080/"
        },
        "outputId": "70aa8e83-28ab-4e70-d62e-03f7543602ca"
      },
      "execution_count": null,
      "outputs": [
        {
          "output_type": "stream",
          "name": "stdout",
          "text": [
            "10\n",
            "42\n"
          ]
        }
      ]
    },
    {
      "cell_type": "markdown",
      "source": [
        "Questão 5 - Escreva um programa que receba como entrada três números e imprima-os em ordem decrescente."
      ],
      "metadata": {
        "id": "p5UEU1lKfCmQ"
      }
    },
    {
      "cell_type": "code",
      "source": [
        "x = int(input())\n",
        "y = int(input())\n",
        "z = int(input())\n",
        "\n",
        "if x>= y and x>= z:\n",
        "  if y >=z:\n",
        "    print(x,\" \",y,\" \",z)\n",
        "  else:\n",
        "    print(x,\" \",z,\" \",y)\n",
        "\n",
        "elif y>= x and y>= z:\n",
        "  if x >=z:\n",
        "    print(y,\" \",x,\" \",z)\n",
        "  else:\n",
        "    print(y,\" \",z,\" \",x)\n",
        "\n",
        "else:\n",
        "  if x >=y:\n",
        "    print(z,\" \",x,\" \",y)\n",
        "  else:\n",
        "    print(z,\" \",y,\" \",x)"
      ],
      "metadata": {
        "id": "g1F3MjZLfIhK"
      },
      "execution_count": null,
      "outputs": []
    },
    {
      "cell_type": "markdown",
      "source": [
        "Questão 6 - Escreva um programa que dado p, q e r, maiores que zero, calcule o seguinte somatório:\n",
        "\n",
        "∑pi=1∑qj=1∑rk=1i2+jk5−ij\n",
        "\n",
        "A saída do programa deverá ser o resultado deste somatório."
      ],
      "metadata": {
        "id": "k9wUPmugov2I"
      }
    },
    {
      "cell_type": "code",
      "source": [
        "    p = int(input())\n",
        "    q = int(input())\n",
        "    r = int(input())\n",
        "    i1 = 1\n",
        "    i2 = 1\n",
        "    i3 = 1\n",
        "    soma = 0\n",
        "\n",
        "    while i1 <= p:\n",
        "      while i2 <= q:\n",
        "        while i3 <= r:\n",
        "          soma +=  ((i1**2)+ ((i2*i3)/5)-i1*i2)\n",
        "          i3 += 1\n",
        "        i2 += 1\n",
        "        i3 = 1\n",
        "      i1 += 1\n",
        "      i2 = 1\n",
        "    print(soma)"
      ],
      "metadata": {
        "id": "3MYMvVmpoxq5"
      },
      "execution_count": null,
      "outputs": []
    },
    {
      "cell_type": "markdown",
      "source": [
        "Questão 7 - Dizemos que uma sequência de 𝑛>0 termos é 𝑘-alternante (𝑘>0) se for composta alternadamente por segmentos de tamanho 𝑘 de números pares e segmentos de tamanho 𝑘 de números ímpares de tamanho 𝑘 ou o contrário. Por exemplo:\n",
        "\n",
        "2 8 22 3 9 11 4 6 8 9 3 11 102 104 98 é uma sequência de 15 termos 3-alternante\n",
        "\n",
        "1 10 9 8 3 18 19 0 é uma sequência 1-alternante de 8 termos\n",
        "\n",
        "4 2 3 1 6 4 2 9 3 não é alternante para nenhum 𝑘\n",
        "\n",
        "1 3 5 é 3-alternante\n",
        "\n",
        "Escreva um programa que recebe um número 𝑛>0, lê mais 𝑛 outros números e diz se existe algum 𝑘>0 para o qual a sequência é 𝑘-alternante."
      ],
      "metadata": {
        "id": "ozp3-0j9oyBC"
      }
    },
    {
      "cell_type": "code",
      "source": [],
      "metadata": {
        "id": "4efa3lfcozrl"
      },
      "execution_count": null,
      "outputs": []
    },
    {
      "cell_type": "markdown",
      "source": [
        "Questão 8 - Escreve um programa que lê um caracter do conjunto { +, -, *, / } e dois números inteiros (nessa ordem) e imprime o resultado (inteiro) da expressão:"
      ],
      "metadata": {
        "id": "guWO-iguo2Hq"
      }
    },
    {
      "cell_type": "code",
      "source": [
        "op = input()\n",
        "n1 = int(input())\n",
        "n2 = int(input())\n",
        "if op == \"+\":\n",
        "  print(n1+n2)\n",
        "elif op == \"-\":\n",
        "  print(n1-n2)\n",
        "elif op == \"*\":\n",
        "  print(n1*n2)\n",
        "else:\n",
        "  print(n1//n2)"
      ],
      "metadata": {
        "id": "Ovn7c1kCo3fy"
      },
      "execution_count": null,
      "outputs": []
    },
    {
      "cell_type": "markdown",
      "source": [
        "Questão 9 - Escreva um programa que tenha como entrada números inteiros m e n, maiores que zero, e tenha como saída os índices de uma matriz m x n organizados em formato tabular."
      ],
      "metadata": {
        "id": "DdXqQvcvo4Fb"
      }
    },
    {
      "cell_type": "code",
      "source": [
        "m = int(input())\n",
        "n = int(input())\n",
        "i = 0\n",
        "i1 = 0\n",
        "while i < m:\n",
        "  while i1 < n:\n",
        "    print(\"(\",i,\",\",i1,\")\",sep=\"\", end=\" \")\n",
        "    i1+=1\n",
        "  print(\"\\n\")\n",
        "  i += 1\n",
        "  i1 = 0"
      ],
      "metadata": {
        "id": "FSVmDDAzo5pk"
      },
      "execution_count": null,
      "outputs": []
    },
    {
      "cell_type": "markdown",
      "source": [
        "Questão 10 - Dizemos que um número natural é triangular se ele é produto de três números naturais consecutivos. Escreva um programa que tenha como entrada um número n e tenha como saída 'Triangular: a.b.c' (a, b e c são os números consecutivos que multiplicados resultam em n) caso n seja triangular, do contrário, imprima 'Não-Triangular'."
      ],
      "metadata": {
        "id": "KjXpf9Sqo598"
      }
    },
    {
      "cell_type": "code",
      "source": [
        "    n = int(input())\n",
        "    i = 1\n",
        "    while i < n:\n",
        "      if i*(i+1)*(i+2) == n:\n",
        "        print(\"Triangular: \",i,\".\",i+1,\".\",i+2,sep=\"\")\n",
        "        i = i + n\n",
        "      elif i*(i+1)*(i+2) > n:\n",
        "        print(\"Não-Triangular\")\n",
        "        i = i + n\n",
        "      i = i + 1"
      ],
      "metadata": {
        "id": "jD-kwhWfo9Z-"
      },
      "execution_count": null,
      "outputs": []
    },
    {
      "cell_type": "markdown",
      "source": [
        "Questão 11 - Escreva um programa que recebe dois números inteiros positivos p e q, imprime SIM se p é um subnúmero de q e NAO, caso contrário.\n",
        "\n",
        "Exemplos:\n",
        "23 é subnúmero de 57238\n",
        "23 não é um subnúmero 258347"
      ],
      "metadata": {
        "id": "seFD3jiWQjb3"
      }
    },
    {
      "cell_type": "code",
      "source": [
        "def t(x):\n",
        "  if x > 9:\n",
        "    return(1+t(x//10))\n",
        "  elif x >= 0:\n",
        "    return(1)\n",
        "  else:\n",
        "    return(t(-x))\n",
        "\n",
        "p = int(input())\n",
        "p1 = p\n",
        "q = int(input())\n",
        "x = 0\n",
        "l = t(p1)\n",
        "\n",
        "if p == q:\n",
        "  print(\"SIM\")\n",
        "else:\n",
        "  while q != 0 and p != 0:\n",
        "    np = p%10\n",
        "    nq = q%10\n",
        "    if np == nq:\n",
        "      x += 1\n",
        "      p = p//10\n",
        "      q = q//10\n",
        "    else:\n",
        "      if x > 1:\n",
        "        x = 0\n",
        "        p = p1\n",
        "      else:\n",
        "        q = q//10\n",
        "\n",
        "  if x == l:\n",
        "    print(\"SIM\")\n",
        "  else:\n",
        "    print(\"NAO\")"
      ],
      "metadata": {
        "id": "4BdNy0npQmgI"
      },
      "execution_count": null,
      "outputs": []
    },
    {
      "cell_type": "code",
      "source": [
        "Questão 12 -Escreva um programa que lê um número n maior que 1 e imprime a decomposição desse número em fatores primos. O formato é como mostramos a seguir:\n",
        "\n",
        "Exemplos:\n",
        "\n",
        "Entrada: 12\n",
        "\n",
        "Saída: 2 ^ 2 * 3 ^ 1 (2 elevado a 2 vezes 3 elevado a 1)\n",
        "\n",
        "Entrada: 50\n",
        "\n",
        "Saída:  2 ^ 1 * 5 ^ 2 (2 elevado a 1 vezes 5 elevado a 2)"
      ],
      "metadata": {
        "id": "5oaZ-Xmm9NrW"
      },
      "execution_count": null,
      "outputs": []
    },
    {
      "cell_type": "code",
      "source": [
        "def main():\n",
        "    n = int(input())\n",
        "    i = 2\n",
        "    x = 0\n",
        "    l = []\n",
        "    ver = True\n",
        "    while ver:\n",
        "      while (n%i == 0):\n",
        "        n = n//i\n",
        "        x+=1\n",
        "      l.append(x)\n",
        "      if n == 1:\n",
        "        ver = False\n",
        "      x=0\n",
        "      i+=1\n",
        "\n",
        "    ver = True\n",
        "    j = 0\n",
        "    while j < len(l) and ver:\n",
        "      if l[j] != 0:\n",
        "        print(j+2,\"^\",l[j],end=\"\")\n",
        "        ver = False\n",
        "      j+=1\n",
        "    while j < len(l):\n",
        "      if l[j] != 0:\n",
        "        print(\" * \",j+2,\" ^ \",l[j],sep =\"\",end=\"\")\n",
        "      j+=1\n",
        "main()"
      ],
      "metadata": {
        "id": "zl-ItPwl9Tuk"
      },
      "execution_count": null,
      "outputs": []
    },
    {
      "cell_type": "code",
      "source": [
        "Questão 13 - Uma função de massa de probabilidade associa a cada variável aleatória a uma probabilidade. Existem diversas PMFs que servem para modelar diversos tipo de problemas. Um exemplo é a Distribuição Binomial que associa a probabilidade de k sucessos em uma sequência n de experimentos independentes. Sua fómula é dada pela seguinte expressão: Pr(X=k)=(nk)pk(1−p)n−k\n",
        "\n",
        "Para k≥0, onde:\n",
        "\n",
        "(nk)=n!k!(n−k)!\n",
        "\n",
        "Escreva um programa que tenha como entrada o número total de experimentos, n>0 inteiro, o número k, também inteiro, de sucessos e a probabilidade p de sucesso, que é do tipo float e 0≤p≤1, o programa terá como saída a probabilidade de k sucessos.\n",
        "\n",
        "Para escrever este programa, o uso de funções facilitará bastante. Por isto, implemente as seguintes funções além da função main que fará o destas:\n",
        "\n",
        "fatorial: função que tem como parâmetro uma varíavel n e que retorna o fatorial desta. Atenção: não use o input dentro desta função, os inputs serão usados somente na função main e seus valores armazenados em uma variável e esta variável será o argumento da chamada da função.\n",
        "\n",
        "coeficiente_binomial: função que terá como parâmetro n e k e retornará o coeficiente binomial calculando ( n \\choose k ). Fica claro que esta função fará várias chamadas da função fatorial.\n",
        "\n",
        "Pr: função que terá como parâmetro k, n e p e retornará a probabilidade de k sucesso. Esta função fará uma chamada à função anterior para calcular a probabilidade.\n",
        "\n",
        "main: por fim, a função main não possui argumentos e é nesta função que voce usá os input para pegar a entrada do programa. No final do código, depois da definição desta função, faça a chamada dela para que o programa funcione.\n",
        "\n",
        "Importante: Imprima na saída do programa a probabilidade com 6 casas decimais. Para isto, há diversas formas de se fazer, um jeito é por exemplo:\n",
        "\n",
        "probabilidade = Pr(k, n, p) # chamada da função Pr, seu resultado será guardado na variável probabilidade.\n",
        "\n",
        "print(\"%.6f\" % probabilidade) # imprimir na saída o valor da probabilidade com 6 casas decimais.\n",
        "Exemplo 1:\n",
        "Entrada:\n",
        "10\n",
        "5\n",
        "0.5\n",
        "Saída:\n",
        "0.246094"
      ],
      "metadata": {
        "id": "iMcUMqtJ9WHH"
      },
      "execution_count": null,
      "outputs": []
    },
    {
      "cell_type": "code",
      "source": [
        "def main():\n",
        "    def fat(x):\n",
        "      if x == 1 or x == 0:\n",
        "        return (1)\n",
        "      else:\n",
        "        return (x*fat(x-1))\n",
        "\n",
        "    def pr(n,k,p):\n",
        "      a = (fat(n))/(fat(k)*fat(n-k))\n",
        "      b = p**k\n",
        "      c = (1-p)**(n-k)\n",
        "      return(a*b*c)\n",
        "\n",
        "    n = int(input())\n",
        "    k = int(input())\n",
        "    p = float(input())\n",
        "\n",
        "    prob = pr(n,k,p)\n",
        "    print(\"%.6f\" % prob)\n",
        "main()"
      ],
      "metadata": {
        "id": "XaZ4H4XM9hqu"
      },
      "execution_count": null,
      "outputs": []
    },
    {
      "cell_type": "code",
      "source": [
        "Questão 14 - Escreva um programa que calcula a distância entre dois pontos e a imprime na tela com 6 casas decimais. O seu programa receberá como entrada os valores de x1 e y1 do primeiro ponto e os valores de x2 e y2 do segundo ponto. A distância entre dois pontos é dada pela seguinte fómula: Exemplo 1:\n",
        "- entrada:\n",
        "1\n",
        "0\n",
        "10\n",
        "0\n",
        "- saída:\n",
        "9.000000"
      ],
      "metadata": {
        "id": "9FvnFg2m9jv5"
      },
      "execution_count": null,
      "outputs": []
    },
    {
      "cell_type": "code",
      "source": [
        "from math import sqrt\n",
        "def main():\n",
        "    def calcule_distancia(a,b,c,d):\n",
        "      return(sqrt((a-c)**2+(b-d)**2))\n",
        "    x1 = float(input())\n",
        "    y1 = float(input())\n",
        "    x2 = float(input())\n",
        "    y2 = float(input())\n",
        "    dist = calcule_distancia(x1,y1,x2,y2)\n",
        "    print(\"%.6f\" % dist)\n",
        "main()"
      ],
      "metadata": {
        "id": "DDuuc3XN9qzk"
      },
      "execution_count": null,
      "outputs": []
    },
    {
      "cell_type": "markdown",
      "source": [
        "Questão 15 - Escreva um programa que lê um número inteiro n maior ou igual a zero e imprime as n+1 primeiras linhas do triângulo de Pascal. A i-ésima (i > 0) linha do triângulo é composta pelos coeficientes binomiais (i−1j), com j variando de 0 até i−1. A primeira linha do triângulo é composta apenas de (00), a  segunda de (10) e  (11) e assim por diante."
      ],
      "metadata": {
        "id": "o9wWNV_J9tlO"
      }
    },
    {
      "cell_type": "code",
      "source": [
        "def main():\n",
        "    def fat(x):\n",
        "      if x == 1 or x == 0:\n",
        "        return (1)\n",
        "      else:\n",
        "        return (x*fat(x-1))\n",
        "\n",
        "    def comb (n,k):\n",
        "      return(int((fat(n)/(fat(k)*fat(n-k)))))\n",
        "\n",
        "    def linha_pascal(i):\n",
        "      j = 0\n",
        "      while j <= i-1:\n",
        "        print(comb(i-1,j), end=\" \")\n",
        "        j+=1\n",
        "      print(\"\\n\")\n",
        "      return\n",
        "\n",
        "\n",
        "    def triangulo_pascal(n):\n",
        "      i = 1\n",
        "      while i <=n+1:\n",
        "        linha_pascal(i)\n",
        "        i+=1\n",
        "    n = int(input())\n",
        "    triangulo_pascal(n)\n",
        "main()"
      ],
      "metadata": {
        "id": "AkPllzw69ywZ"
      },
      "execution_count": null,
      "outputs": []
    },
    {
      "cell_type": "markdown",
      "source": [
        "Questão 16 - Faça um programa receba um número n > 0, duas sequências de n números reais e, por fim, um carácter, se o carácter for + realize a operação de soma dos dois vetores, se for - realize a operação de subtração. O programa terá como saída o vetor resultante da operação. A fórmula dessas operações sobre vetores de dimensão n é: Exemplo 1: n=3\n",
        "- entrada:\n",
        "3\n",
        "1\n",
        "2\n",
        "3\n",
        "3\n",
        "2\n",
        "1\n",
        "+\n",
        "- saída:\n",
        "[4.0, 4.0, 4.0]"
      ],
      "metadata": {
        "id": "7bZmzURQ91ll"
      }
    },
    {
      "cell_type": "code",
      "source": [
        "def ent_listas(): #retorna listas com tamanho n, onde n é o input\n",
        "  l = []\n",
        "  q = []\n",
        "  n = int(input())\n",
        "  i = 0\n",
        "  while i < n:\n",
        "    l.append(float(input()))\n",
        "    i+=1\n",
        "  i = 0\n",
        "  while i < n:\n",
        "    q.append(float(input()))\n",
        "    i+=1\n",
        "  return(l,q)\n",
        "\n",
        "def sum_vet(x,y): #soma para dois vetores de *mesmo* tamanho\n",
        "  i = 0\n",
        "  w = []\n",
        "  while i < len(x):\n",
        "    w.append(x[i]+y[i])\n",
        "    i+=1\n",
        "  return(w)\n",
        "\n",
        "def dif_vet(x,y): #soma para dois vetores de *mesmo* tamanho\n",
        "  i = 0\n",
        "  w = []\n",
        "  while i < len(x):\n",
        "    w.append(x[i]-y[i])\n",
        "    i+=1\n",
        "  return(w)\n",
        "\n",
        "\n",
        "a,b = ent_listas()\n",
        "if input() == \"+\":\n",
        "  print(sum_vet(a,b))\n",
        "else:\n",
        "  print(dif_vet(a,b))"
      ],
      "metadata": {
        "id": "I36x73Ht97tS"
      },
      "execution_count": null,
      "outputs": []
    },
    {
      "cell_type": "markdown",
      "source": [
        "Questão 17 - Escreva um programa que tenha como entrada um número inteiro n > 0 e em seguida receba duas sequências de números reais. Trate essas duas sequências como sendo dois vetores xe y de dimensão n. Com estes dois vetores (listas x e y), calcule o produto escalar usando a seguinte fórmula:\n",
        "\n",
        "xy=∑n−1i=0xiyi\n",
        "\n",
        "Perceba que na fórmula acima cada elemento do vetor x e y é indexado pela variável i. Após isto, exiba \"Vetores Ortogonais\" caso o resultado seja zero, do contrário, imprima o valor do produto com 6 casas decimais. Exemplo 1: n=3\n",
        "- entrada:\n",
        "3\n",
        "1\n",
        "0\n",
        "0\n",
        "0\n",
        "1\n",
        "0\n",
        "- saída:\n",
        "Vetores Ortogonais\n",
        "\n",
        "Exemplo 2: n=3\n",
        "- entrada:\n",
        "3\n",
        "1\n",
        "0\n",
        "0\n",
        "1\n",
        "1\n",
        "0\n",
        "- saída:\n",
        "1.000000"
      ],
      "metadata": {
        "id": "GW5SvOdVG8V6"
      }
    },
    {
      "cell_type": "code",
      "source": [
        "def main():\n",
        "    def ent_listas(): #retorna listas com tamanho n, onde n é o input\n",
        "      l = []\n",
        "      q = []\n",
        "      n = int(input())\n",
        "      i = 0\n",
        "      while i < n:\n",
        "        l.append(float(input()))\n",
        "        i+=1\n",
        "      i = 0\n",
        "      while i < n:\n",
        "        q.append(float(input()))\n",
        "        i+=1\n",
        "      return(l,q)\n",
        "\n",
        "    def prod_esc(x,y): #produto escalar entre vet do *mesmo* tamanho\n",
        "      s = 0\n",
        "      i = 0\n",
        "      while i < len(x):\n",
        "        s += (x[i]*y[i])\n",
        "        i += 1\n",
        "      return(s)\n",
        "\n",
        "    a,b = ent_listas()\n",
        "    r = prod_esc(a,b)\n",
        "\n",
        "    if r != 0:\n",
        "      print(\"%.6f\" % r)\n",
        "    else:\n",
        "      print(\"Vetores Ortogonais\")\n",
        "main()"
      ],
      "metadata": {
        "id": "LcLjZebSG93Q"
      },
      "execution_count": null,
      "outputs": []
    },
    {
      "cell_type": "markdown",
      "source": [
        "Questão 18 - Escreva um programa que receberá um número inteiro n > 0 e uma sequência de n números reais. O seu programa deverá ter como saída o número de ocorrências de cada número da sequência. Atenção implemente o algoritmo para encontrar a ocorrência de cada número, não use funções prontas do python, se houver.\n",
        "\n",
        "Para organizar o teu código, escreva as seguintes funções:\n",
        "\n",
        "encontrar_numero_ocorrencia: função com dois parâmetros, n e lista_sequencia, e retorna o número de vezes em que n aparece em lista_sequencia\n",
        "\n",
        "main: função principal que terá a lógica para pegar os dados de entrada usando a função input. É nesta função que deverá ser feita a chamada à função encontrar_numero_ocorrencia. Exemplo 1: n= 4\n",
        "- entrada:\n",
        "4\n",
        "0\n",
        "2\n",
        "2\n",
        "2\n",
        "- saída:\n",
        "0.0 ocorre 1 vez\n",
        "2.0 ocorre 3 vezes"
      ],
      "metadata": {
        "id": "XZrOV3wtHJ2o"
      }
    },
    {
      "cell_type": "code",
      "source": [
        "def ent(): #entrada\n",
        "  n = int(input())\n",
        "  l = []\n",
        "  i = 0\n",
        "  while i < n:\n",
        "    l.append(float(input()))\n",
        "    i += 1\n",
        "  return(l)\n",
        "\n",
        "def seq_l(l): #função que retorna uma lista de valores a serem impressos\n",
        "  q = []\n",
        "  i = 0\n",
        "  while i < len(l):\n",
        "    if l[i] in q:\n",
        "      pass\n",
        "    else:\n",
        "      q.append(l[i])\n",
        "    i += 1\n",
        "  return(q)\n",
        "\n",
        "def ocorr_l(n,l): #numero de vezes que certo numero aparece\n",
        "  i = 0\n",
        "  s = 0\n",
        "  while i < len(l):\n",
        "    if l[i] == n:\n",
        "      s+=1\n",
        "    i+=1\n",
        "  return(s)\n",
        "\n",
        "def print_l(l,q): #onde l é a lista de valores a serem impressos, q a lista original\n",
        "  i = 0\n",
        "  while i < len(l):\n",
        "    s = ocorr_l(l[i],q)\n",
        "    if s == 1:\n",
        "      print(l[i],\"ocorre 1 vez\")\n",
        "    else:\n",
        "      print(l[i],\"ocorre\",s,\"vezes\")\n",
        "    i+=1\n",
        "\n",
        "a = ent() #lista inicial\n",
        "b = seq_l(a) #lista a ser impressa\n",
        "\n",
        "print_l(b,a)"
      ],
      "metadata": {
        "id": "8vCtgXVRHWeO"
      },
      "execution_count": null,
      "outputs": []
    },
    {
      "cell_type": "markdown",
      "source": [
        "Questão 19 - Faça um programa que terá como entrada um número inteiro n > 0 e uma sequência de números reais de tamanho 2n, armaze esta sequência em duas listas de forma que cada uma tenha tamanho n, metade dessa sequência em uma lista e o restante em outra lista. Agora faça a união destas duas listas de forma que não haja repetição de elementos. Neste exercício, você deve imprimir a lista ordenada. Para ordenar uma lista, recomendamos que você use o método sort. Se l é uma lista, para orderná-la utilize l.sort().\n",
        "\n",
        "Atenção o exercício é para implementar o algoritmo, não use funções do Python prontas (exceto o método sort, que será permitido neste exercício).\n",
        "\n",
        "Exemplo 1: n = 3\n",
        "- entrada:\n",
        "3\n",
        "1\n",
        "1\n",
        "2\n",
        "3\n",
        "2\n",
        "1\n",
        "- saída:\n",
        "[1, 2, 3]"
      ],
      "metadata": {
        "id": "IU5KD3QwlwRq"
      }
    },
    {
      "cell_type": "code",
      "source": [
        "def ent_listas(): #retorna listas com tamanho n, onde n é o input\n",
        "  l = []\n",
        "  q = []\n",
        "  n = int(input())\n",
        "  i = 0\n",
        "  while i < n:\n",
        "    l.append(int(input()))\n",
        "    i+=1\n",
        "  i = 0\n",
        "  while i < n:\n",
        "    q.append(int(input()))\n",
        "    i+=1\n",
        "  return(l,q)\n",
        "\n",
        "def un_l(l,q):\n",
        "  w = l+q\n",
        "  w.sort()\n",
        "  i = 0\n",
        "  while i < len(w): #remover elementos iguais\n",
        "    if i == len(w)-1:\n",
        "      i+=1\n",
        "    elif w[i] == w[i+1]:\n",
        "      w.pop(i+1)\n",
        "    else:\n",
        "      i+=1\n",
        "  return(w)\n",
        "\n",
        "a,b = ent_listas()\n",
        "print(un_l(a,b))"
      ],
      "metadata": {
        "id": "Kr1zKXatlyAs"
      },
      "execution_count": null,
      "outputs": []
    },
    {
      "cell_type": "markdown",
      "source": [
        "Questão 20 - Escreva um programa que receba como entrada um número n e em seguida uma sequência de tamanho 2n contendo números entre 0 e 9. Armazena a metade dessa sequência em uma lista e a outra metada em outra lista, ou seja, você terá no final duas listas de tamanho n. Após isto, o teu programa deverá tratar estas listas como sendo dois números de n algarismos e, deverá ter como saída a sequência de números que representa a soma das duas sequências/números.\n",
        "Exemplo 1: n = 8\n",
        "- Entrada:\n",
        "8\n",
        "8\n",
        "2\n",
        "4\n",
        "3\n",
        "4\n",
        "2\n",
        "5\n",
        "1\n",
        "3\n",
        "3\n",
        "7\n",
        "9\n",
        "2\n",
        "3\n",
        "8\n",
        "7\n",
        "- saída:\n",
        "1 1 6 2 2 6 6 3 8"
      ],
      "metadata": {
        "id": "hNDgch3ClyYo"
      }
    },
    {
      "cell_type": "code",
      "source": [
        "def ent_listas(): #retorna listas com tamanho n, onde n é o input\n",
        "  l = []\n",
        "  q = []\n",
        "  n = int(input())\n",
        "  i = 0\n",
        "  while i < n:\n",
        "    l.append(int(input()))\n",
        "    i+=1\n",
        "  i = 0\n",
        "  while i < n:\n",
        "    q.append(int(input()))\n",
        "    i+=1\n",
        "  return(l,q)\n",
        "\n",
        "def sum_listas(l,q):\n",
        "  a = \"\"\n",
        "  b = \"\"\n",
        "  i = 0\n",
        "  while i < len(l):\n",
        "    a+=str(l[i])\n",
        "    i+=1\n",
        "  i = 0\n",
        "  while i < len(q):\n",
        "    b+=str(q[i])\n",
        "    i+=1\n",
        "  i = 0\n",
        "  c = list(str(int(a)+int(b)))\n",
        "  return(c)\n",
        "\n",
        "def print_sum(l):\n",
        "  i = 0\n",
        "  while i < len(l):\n",
        "    if i == (len(l)-1):\n",
        "      print(l[i])\n",
        "    else:\n",
        "      print(l[i],end=\" \")\n",
        "    i+=1\n",
        "\n",
        "c,d = ent_listas()\n",
        "print_sum(sum_listas(c,d))"
      ],
      "metadata": {
        "id": "CDUFsPDSl0Lo"
      },
      "execution_count": null,
      "outputs": []
    },
    {
      "cell_type": "markdown",
      "source": [
        "Questão 21 - Dados dois números inteiros maiores ou iguais a 0 em base 10, n e m, dizemos que n é permutação de m se podemos obter m a partir de n trocando a ordem de seus dígitos. Escreva um programa que recebe dois números inteiros estritamente positivos e imprime SIM se o primeiro é permutação do segundo e NAO caso contrário. Exemplo 01:\n",
        "- Entrada:\n",
        "235\n",
        "523\n",
        "- Saída:\n",
        "SIM"
      ],
      "metadata": {
        "id": "dxR3cTr5nKvs"
      }
    },
    {
      "cell_type": "code",
      "source": [
        "n = list(input())\n",
        "m = list(input())\n",
        "n.sort()\n",
        "m.sort()\n",
        "i,j,s = 0,0,0\n",
        "\n",
        "if len(n) != len(m):\n",
        "  print(\"NAO\")\n",
        "else:\n",
        "  while i < len(n) and i < len(m):\n",
        "    if n[i] == m[i]:\n",
        "      s+=1\n",
        "    i+=1\n",
        "\n",
        "  #print(s)\n",
        "  if s == len(n):\n",
        "    print(\"SIM\")\n",
        "  else:\n",
        "    print(\"NAO\")"
      ],
      "metadata": {
        "id": "e10SPwMDnM0R"
      },
      "execution_count": null,
      "outputs": []
    },
    {
      "cell_type": "markdown",
      "source": [
        "Questão 22 - São dados um número inteiro n maior ou igual a zero, e n+1 números reais, que representam os coeficientes de um polinômio. O primeiro número lido depois de n representa o coeficiente de x0, o segundo, de x1, e assim por diante. Em seguinda fornecemos um número inteiro estritamente positivo k e em seguida k números reais. Imprima os valores (como números float) da função polinomial nos pontos dados. Exemplo 1:\n",
        "- Entrada:\n",
        "2\n",
        "1\n",
        "2\n",
        "1\n",
        "2\n",
        "0\n",
        "3\n",
        "- Saída:\n",
        "1.0\n",
        "16.0"
      ],
      "metadata": {
        "id": "JNRdBFpcnNNE"
      }
    },
    {
      "cell_type": "code",
      "source": [
        "def ent_pol():\n",
        "  n = int(input())\n",
        "  l = []\n",
        "  while len(l) <= n:\n",
        "    l.append(float(input()))\n",
        "  return(l)\n",
        "\n",
        "def ent_k():\n",
        "  k = int(input())\n",
        "  q = []\n",
        "  while len(q) < k:\n",
        "    q.append(float(input()))\n",
        "  return(q)\n",
        "\n",
        "def pol(a,b): #a é a lista de coeficientes, b os valores de x\n",
        "  i = 0\n",
        "  while i < len(b):\n",
        "    x = b[i]\n",
        "    s = 0\n",
        "    j = 0\n",
        "    while j < len(a):\n",
        "      s += (x**j)*a[j]\n",
        "      j+=1\n",
        "    print(s)\n",
        "    s = 0\n",
        "    i+=1\n",
        "\n",
        "a = ent_pol()\n",
        "b = ent_k()\n",
        "\n",
        "pol(a,b)"
      ],
      "metadata": {
        "id": "TmUN0nyPnOiy"
      },
      "execution_count": null,
      "outputs": []
    },
    {
      "cell_type": "markdown",
      "source": [
        "Questão 23 - Dados dois polinômios p(x)=a0+…+anxn e d(x)=x−a, implemente o método de Briot-Ruffini para imprimir o cálculo da divisão de p por d. São dados o grau do polinômio n, em seguida são fornecidos os n + 1 coeficientes do polinômio p (com o primeiro sendo o coeficiente de grau 0, o segundo do monômio de grau 1, e assim por diante) e finalmente é dado o valor de a (Atenção: p deve ser dividido por d(x)=x−a); seu programa deve imprimir os coeficientes do quociente da divisão de p por d como no formato especificado a seguir: (imprima os números como floats) Exemplo 01:\n",
        "-Entrada:\n",
        "3\n",
        "3\n",
        "5\n",
        "7\n",
        "9\n",
        "11\n",
        "- Saída:\n",
        "1171.0 + 106.0x + 9.0x ^ 2"
      ],
      "metadata": {
        "id": "lJOn3bzCnO8w"
      }
    },
    {
      "cell_type": "code",
      "source": [
        "def ent_pol(): #coef de p\n",
        "  n = int(input())\n",
        "  l = []\n",
        "  while len(l) <= n:\n",
        "    l.append(float(input()))\n",
        "  return(l)\n",
        "\n",
        "def div_pol(p,a):\n",
        "  q = []\n",
        "  i = len(p)-1\n",
        "  s = 0\n",
        "  while i > -1:\n",
        "    if i == len(p)-1:\n",
        "      s = p[i]\n",
        "      q.append(s)\n",
        "    else:\n",
        "      s = p[i]+(s*a)\n",
        "      q.append(s)\n",
        "    i-=1\n",
        "  j = len(q)-2\n",
        "  while j > -1:\n",
        "    if j == len(q)-2:\n",
        "      print(q[j],end=\" \")\n",
        "    elif j == (len(q)-3):\n",
        "      if q[j] >= 0:\n",
        "        print(\"+ \",q[j],\"x\",sep=\"\",end=\"\")\n",
        "      else:\n",
        "        print(\"- \",-q[j],\"x\",sep=\"\",end=\"\")\n",
        "    else:\n",
        "      if q[j] >= 0:\n",
        "        print(\" + \",q[j],\"x\",\" ^ \",(len(q)-(j+2)),sep=\"\",end=\"\")\n",
        "      else:\n",
        "        print(\" - \",-q[j],\"x\",\" ^ \",(len(q)-(j+2)),sep=\"\",end=\"\")\n",
        "    j-=1\n",
        "\n",
        "p = ent_pol()\n",
        "a = int(input())\n",
        "div_pol(p,a)"
      ],
      "metadata": {
        "id": "xh1IpLvNnQMs"
      },
      "execution_count": null,
      "outputs": []
    },
    {
      "cell_type": "markdown",
      "source": [
        "Questão 24 - Uma string nada mais é que uma cadeia de caracteres que poderiam ser armazenados em uma lista. Uma variável do tipo string pode ter um dos seus caracteres acessado através do seu indice, da mesma forma como acessamos os elementos de uma lista. Por exemplo:\n",
        "\n",
        "palavra = 'ANA'\n",
        "tamanho_palavra = len(palavra)\n",
        " printará a primeira letra da string armazenada na variável palavra\n",
        "print(palavra[0])\n",
        "\n",
        " printará a última letra da string armazenada na variável palavra\n",
        "print(palavra[tamanho_palavra-1])\n",
        "\n",
        " Amazeno o caracter 'N' em outra variável\n",
        "caracter_do_meio = palavra[1]\n",
        "\n",
        " printará a letra 'N'\n",
        "print(caracter_do_meio)\n",
        "Perceba que no código acima usamos len para descobrir o tamanho da palavra e usamos o índice para acessar o primeiro e o último caracter que compõe a string, da mesma forma como faríamos com uma lista.\n",
        "\n",
        "Com base nesta explicação, escreva um programa que receba duas strings: palavra e frase. O teu programa deverá printar no final quantas vezes a palavra aparece na frase.\n",
        "\n",
        "Atenção: Para este exercício não será permitido o uso do ine nem do not in. Além disso, não poderá ser usadas funções prontas do python. Caso o faça, o exercício receberá nota zero.\n",
        "\n",
        "Dica: Pense em como você faria na mão para contar o número de ocorrência da palavradentro da frase caracter a caracter. Exemplo 1\n",
        "\n",
        "Entrada:\n",
        "ANA\n",
        "ANA E MARIANA GOSTAM DE BANANA\n",
        "\n",
        "Saída:\n",
        "ANA ocorre 4 vezes"
      ],
      "metadata": {
        "id": "b_6lcMGUnQeg"
      }
    },
    {
      "cell_type": "code",
      "source": [
        "palavra = str(input())\n",
        "frase = str(input())\n",
        "qtde = 0\n",
        "i = 0\n",
        "ver = True\n",
        "\n",
        "while i < len(frase):\n",
        "  if frase[i] == palavra[0] and (i != len(frase)-1): #se os primeiros indices forem iguais\n",
        "    j = 1\n",
        "    ver = True\n",
        "    while j < len(palavra) and ver: #percorre a palavra\n",
        "      if palavra[j] != frase[i+1]:\n",
        "        ver = False\n",
        "      else:\n",
        "        i += 1\n",
        "        j += 1\n",
        "    if ver:\n",
        "      qtde += 1\n",
        "      i-=1\n",
        "  i+=1\n",
        "\n",
        "if qtde == 1:\n",
        "  print(palavra,\"ocorre 1 vez\")\n",
        "else:\n",
        "  print(palavra,\"ocorre\",qtde,\"vezes\")"
      ],
      "metadata": {
        "id": "4dQkSTD6nRpI"
      },
      "execution_count": null,
      "outputs": []
    },
    {
      "cell_type": "markdown",
      "source": [
        "Questão 25 - Escreva um programa que receberá número n > 0 e em seguinda uma sequência x0,x1,x2,...,xn−1 de números inteiros , verifique se existem dois seguimentos consecutivos iguais na sequência dada, ou seja, se existe i e m de modo que:\n",
        "\n",
        "xi,xi+1,...,xi+m−1=xi+m,xi+m+1,...,xi+2m−1\n",
        "\n",
        "O seu programa deverá exibir os valores de i e m caso exista, do contrário, exiba não há segmentos consecutivos. Exemplo 1\n",
        "\n",
        "Entrada:\n",
        "9\n",
        "1\n",
        "7\n",
        "9\n",
        "5\n",
        "4\n",
        "5\n",
        "4\n",
        "8\n",
        "6\n",
        "Saída:\n",
        "i = 3 e i = 2"
      ],
      "metadata": {
        "id": "zpXfaWN7nR8N"
      }
    },
    {
      "cell_type": "code",
      "source": [
        "def ent():\n",
        "  n = int(input())\n",
        "  i = 0\n",
        "  l = []\n",
        "  while i < n:\n",
        "    l.append(int(input()))\n",
        "    i+=1\n",
        "  return(l)\n",
        "\n",
        "a = ent()\n",
        "ver = True\n",
        "i = 0\n",
        "while i < len(a):\n",
        "  s = a[i]\n",
        "  j = i+1\n",
        "  while j < len(a):\n",
        "    if a[j] == s:\n",
        "      s2 = a[j]\n",
        "      m = j - i\n",
        "      if s == s2 and a[i:i+m] == a[j:j+m] and m > 1:\n",
        "        print(\"i =\",i,\"e m =\",m)\n",
        "        ver = False\n",
        "    j+=1\n",
        "  i+=1\n",
        "if ver:\n",
        "  print(\"não há segmentos consecutivos\")"
      ],
      "metadata": {
        "id": "jXnX_-yynTgu"
      },
      "execution_count": null,
      "outputs": []
    },
    {
      "cell_type": "markdown",
      "source": [
        "Questão 26 - Um dos algoritmos bastante utilizado na computação é o algoritmo de ordenação e, no processo de ordenação um operação que é bastante utilizada é a operação de troca/rotação ou swap. O swap, como o nome implica, faz a troca de valores de dois itens em uma lista, por exemplo: 1 5 6 2 7, podemos fazer a troca do valor 5 e 6 um pelo outro, resultando em: 1 6 5 2 7. O swap geralmente ocorre sob determinada condição, como por exemplo se o elemento atual é maior que o próximo elemento e vice e versa. Neste exercício não iremos cobrar ordenação mas, iremos utilizar a função swap para embaralhar um sequência de números inteiros sob determinada condição.\n",
        "\n",
        "Escreva um programa que receberá como entrada um valor inteiro n > 0 e em seguida uma sequência de tamanho n de números inteiros por fim, a última entrada será um caracter operador onde:\n",
        "\n",
        "operador∈ {\">\", \"<\"}\n",
        "\n",
        "Se o operador for o sinal de maior, o swap deverá ocorrer sob a seguinte condição:\n",
        "\n",
        "Se o elemento i for maior que o elemento i+1\n",
        "Se o operador for o sinal de menor, o swap deverá ocorrer sob a seguinte condição:\n",
        "\n",
        "Se o elemento i+1 for menor que o elemento i\n",
        "Para este exercício será obrigatório usar funções. Neste caso, deverá obrigatoriamente ser implementada as seguintes funções:\n",
        "\n",
        "swap(i, j, lista): função que realiza o swap dos valores de indices i e j em uma lista. No final da operação os elementos lista[i] e lista[j] estarão trocados. Atenção!!! esta função não vai retornar valores, ou seja, não haverá a palavra chave return uma vez que a operação deverá ser feita \"em cima\" da variável lista e portanto não deverá ser criado outra lista. Relembrem da aula sobre passagem por referência.\n",
        "\n",
        "main(): função principal do programa que fará os inputs e etc.\n",
        "\n",
        "O seu programa deverá ter como saída a lista embaralhada conforme os exemplos abaixo:\n",
        "\n",
        "Exemplo 1\n",
        "- entrada: 7\n",
        "2\n",
        "1\n",
        "4\n",
        "3\n",
        "6\n",
        "5\n",
        "7\n",
        "<\n",
        "- saída:\n",
        "[1, 2, 3, 4, 5, 6, 7]\n",
        "\n",
        "\n",
        "\n"
      ],
      "metadata": {
        "id": "EENUwZWeBRGx"
      }
    },
    {
      "cell_type": "code",
      "source": [
        "def ent():\n",
        "  n = int(input())\n",
        "  i = 0\n",
        "  l = []\n",
        "  while i < n:\n",
        "    l.append(int(input()))\n",
        "    i+=1\n",
        "  return(l)\n",
        "\n",
        "def swap(i,j,l):\n",
        "  l[i],l[j] = l[j],l[i]\n",
        "\n",
        "a = ent()\n",
        "op = input()\n",
        "i = 0\n",
        "\n",
        "if op == \">\":\n",
        "  while i < len(a)-1:\n",
        "    if a[i] > a[i+1]:\n",
        "      swap(i,i+1,a)\n",
        "    i+=1\n",
        "else:\n",
        "  while i < len(a)-1:\n",
        "    if a[i+1] < a[i]:\n",
        "      swap(i,i+1,a)\n",
        "    i+=1\n",
        "print(a)"
      ],
      "metadata": {
        "id": "O-ew1wI3BTme"
      },
      "execution_count": null,
      "outputs": []
    },
    {
      "cell_type": "markdown",
      "source": [
        "Questão 27 - Escreva um programa que fará a multiplicação de dois polinômios reais:\n",
        "\n",
        "p(x)=a0+a1x+a1x2+...+anxn\n",
        "\n",
        "q(x)=b0+b1x+b1x2+...+bmxm\n",
        "\n",
        "Para isto, o programa terá como entrada um número inteiro n e em seguinda os n coeficientes de p(x), começando pelo coeficiente a0. Após isto, a próxima entrada será um número inteiro m e em seguida os m coeficientes de q(x), começando pelo coeficiente b0. Após realizar a multiplicação, o seu programa deverá ter como saída o resultado conforme os exemplos abaixo.\n",
        "\n",
        "Dica: faça na mão a multiplicação de dois polinômios quando m = n e quando m != n e tenta reproduzir o que você fez mas, no código.\n",
        "\n",
        "Atenção!!! ao fazer print da saída tome cuidado para não printar um espaço extra no último termo do resultado da multiplicação.\n",
        "\n",
        "Exemplo 1:\n",
        "\n",
        "-entrada: 2\n",
        "1\n",
        "2\n",
        "3\n",
        "4\n",
        "1\n",
        "3\n",
        "-saída:\n",
        "4 + 9x^1 + 5x^2 + 6x^3"
      ],
      "metadata": {
        "id": "EAX-_9SfBUDW"
      }
    },
    {
      "cell_type": "code",
      "source": [
        "def ent():\n",
        "  p = int(input())\n",
        "  i = 0\n",
        "  l = []\n",
        "  q = []\n",
        "  while i < p:\n",
        "    l.append(int(input()))\n",
        "    i+=1\n",
        "  i = 0\n",
        "  r = int(input())\n",
        "  while i < r:\n",
        "    q.append(int(input()))\n",
        "    i+=1\n",
        "  return(l,q)#entrada\n",
        "p,q = ent()\n",
        "\n",
        "r = []\n",
        "r = [0]*(len(p)+len(q)-1)\n",
        "\n",
        "i = 0\n",
        "while i < len(p):\n",
        "  j = 0\n",
        "  while j < len(q):\n",
        "    r[i+j] += (p[i]*q[j])\n",
        "    j+=1\n",
        "  i+=1\n",
        "i = 0\n",
        "ver = True\n",
        "while i < len(r):\n",
        "  if ver:\n",
        "    ver = False\n",
        "    print(r[0],end = \"\")\n",
        "  else:\n",
        "    if r[i] > 0:\n",
        "      print(\" + \",r[i],\"x^\",i,sep =\"\",end=\"\")\n",
        "    else:\n",
        "      print(\" - \",-r[i],\"x^\",i,sep =\"\",end=\"\")\n",
        "  i+=1"
      ],
      "metadata": {
        "id": "Cqky3B0gBWBX"
      },
      "execution_count": null,
      "outputs": []
    },
    {
      "cell_type": "markdown",
      "source": [
        "Questão 28 - São fornecidos um número n maior ou igual a zero, em seguida n elementos em ordem crescente e finalmente é fornecido um último número. Imprima uma lista com os n+1 elementos fornecidos em ordem crescente.\n",
        "\n",
        "Exemplo 01:\n",
        "- Entrada:\n",
        "4\n",
        "1\n",
        "2\n",
        "4\n",
        "5\n",
        "3\n",
        "- Saída:\n",
        "[1, 2, 3, 4, 5]"
      ],
      "metadata": {
        "id": "SgqI8KVXBWfF"
      }
    },
    {
      "cell_type": "code",
      "source": [
        "def ent():\n",
        "  n = int(input())\n",
        "  i = 0\n",
        "  l = []\n",
        "  while i < n:\n",
        "    l.append(int(input()))\n",
        "    i+=1\n",
        "  return(l)\n",
        "\n",
        "a = ent()\n",
        "n = int(input())\n",
        "i = 0\n",
        "l = []\n",
        "ver = True\n",
        "while i < len(a):\n",
        "  if n <= a[i] and ver:\n",
        "    ver = False\n",
        "    l.append(n)\n",
        "  else:\n",
        "    l.append(a[i])\n",
        "    i+=1\n",
        "if n not in l:\n",
        "  l.append(n)\n",
        "print(l)"
      ],
      "metadata": {
        "id": "LQsKB4_EBYRP"
      },
      "execution_count": null,
      "outputs": []
    },
    {
      "cell_type": "markdown",
      "source": [
        "Questão 29 - Dizemos que uma sequência de números é palindrômica se ela é igual a sua versão revertida. Escreva um programa que lê um número n maior ou igual a zero, n números inteiros e imprime \"SIM\" caso a sequência seja palindrômica e \"NAO\" caso contrário.\n",
        "\n",
        "Exemplo 01:\n",
        "- Entrada:\n",
        "5\n",
        "1\n",
        "2\n",
        "3\n",
        "2\n",
        "1\n",
        "- Saída:\n",
        "SIM"
      ],
      "metadata": {
        "id": "14lL_3jhBZRK"
      }
    },
    {
      "cell_type": "code",
      "source": [
        "def ent():\n",
        "  n = int(input())\n",
        "  i = 0\n",
        "  l = []\n",
        "  while i < n:\n",
        "    l.append(int(input()))\n",
        "    i+=1\n",
        "  return(l)\n",
        "a = ent()\n",
        "\n",
        "if len(a)== 0 or len(a) == 1:\n",
        "  print(\"SIM\")\n",
        "elif len(a)%2 == 0:\n",
        "  l = a[0:len(a)//2]\n",
        "  q = a[(len(a)//2):len(a)]\n",
        "  #print(\"l:\",l)\n",
        "  #print(\"q:\",q)\n",
        "  ver = True\n",
        "  i = 0\n",
        "  j = len(q) - 1\n",
        "  #print(\"j:\",j)\n",
        "  while i < len(l) and ver:\n",
        "    if l[i] != q[j]:\n",
        "      ver = False\n",
        "    i+=1\n",
        "    j-=1\n",
        "  if ver:\n",
        "    print(\"SIM\")\n",
        "  else:\n",
        "    print(\"NAO\")\n",
        "\n",
        "else:\n",
        "  l = a[0:len(a)//2]\n",
        "  q = a[1 + (len(a)//2):len(a)]\n",
        "  #print(\"l:\",l)\n",
        "  #print(\"q:\",q)\n",
        "  ver = True\n",
        "  i = 0\n",
        "  j = len(q) - 1\n",
        "  #print(\"j:\",j)\n",
        "  while i < len(l) and ver:\n",
        "    if l[i] != q[j]:\n",
        "      ver = False\n",
        "    i+=1\n",
        "    j-=1\n",
        "  if ver:\n",
        "    print(\"SIM\")\n",
        "  else:\n",
        "    print(\"NAO\")"
      ],
      "metadata": {
        "id": "hCYOK4S4Bazx"
      },
      "execution_count": null,
      "outputs": []
    },
    {
      "cell_type": "markdown",
      "source": [
        "Questão 30 - Dados um número n e uma matriz n por n (n um inteiro estritamente positivo), imprima uma matriz com os mesmo elementos rotacionada 90 graus em sentido anti-horário."
      ],
      "metadata": {
        "id": "FQyv1NzefYcL"
      }
    },
    {
      "cell_type": "code",
      "source": [
        "def main():\n",
        "    def print_l(l):\n",
        "      i = 0\n",
        "      a = \"\"\n",
        "      while i < len(l):\n",
        "        a+=str(l[i])\n",
        "        a+=\" \"\n",
        "        i+=1\n",
        "      print(a)\n",
        "\n",
        "    def ent():\n",
        "      n = int(input())\n",
        "      l = []\n",
        "      i = 0\n",
        "      while i < n:\n",
        "        q = []\n",
        "        j = 0\n",
        "        while j < n:\n",
        "          q.append(int(input()))\n",
        "          j+=1\n",
        "        l.append(q)\n",
        "        i+=1\n",
        "      return(l)\n",
        "\n",
        "    l = ent()\n",
        "\n",
        "    if len(l) == 1:\n",
        "      print(l[0][0])\n",
        "    else:\n",
        "      i = len(l)-1\n",
        "      q = []\n",
        "      while i > -1:\n",
        "        s = []\n",
        "        j = 0\n",
        "        while j < len(l):\n",
        "          s.append(l[j][i])\n",
        "          j+=1\n",
        "        q.append(s)\n",
        "        i-=1\n",
        "      i = 0\n",
        "      while i < len(q):\n",
        "        j = 0\n",
        "        ver = True\n",
        "        while j < len(q[i]):\n",
        "          if ver:\n",
        "            ver = False\n",
        "            print(q[i][j],end=\"\")\n",
        "          else:\n",
        "            print(\" \",q[i][j],sep=\"\",end=\"\")\n",
        "          j+=1\n",
        "        print(\"\\n\",end=\"\")\n",
        "        i+=1\n",
        "main()"
      ],
      "metadata": {
        "id": "L7ddAx8ufbML"
      },
      "execution_count": null,
      "outputs": []
    },
    {
      "cell_type": "markdown",
      "source": [
        "Questão 31 - Escreva um programa que terá como entrada dois inteiros positivos m e n e, uma sequência de tamanho m * n + n de números inteiros, os primeiros m * n números são os números que compõe uma matriz A com mlinhas e n colunas, já os últimos n números desta sequência compõe um vetor V de dimensão n. O seu programa deverá imprimir o resultado do produto de A por V."
      ],
      "metadata": {
        "id": "hOmXZGHZfbgl"
      }
    },
    {
      "cell_type": "code",
      "source": [
        "def main():\n",
        "    m = int(input())\n",
        "    n = int(input())\n",
        "    l = []\n",
        "    i = 0\n",
        "    while i < m: #matriz\n",
        "      q = []\n",
        "      j = 0\n",
        "      while j < n:\n",
        "        q.append(int(input()))\n",
        "        j+=1\n",
        "      l.append(q)\n",
        "      i+=1\n",
        "    v = []\n",
        "    r = []\n",
        "    i = 0\n",
        "    while i < n: #vetor produto\n",
        "      v.append(int(input()))\n",
        "      i+=1\n",
        "\n",
        "    i = 0\n",
        "    while i < m: #vetor resposta\n",
        "      r.append(0)\n",
        "      i+=1\n",
        "    #print(\"l:\",l)\n",
        "    #print(\"r:\",r)\n",
        "    i = 0\n",
        "    while i < len(l): #produto\n",
        "      j = 0\n",
        "      while j < len(l[0]):\n",
        "        r[i] += ((l[i][j])*v[j])\n",
        "        j+=1\n",
        "      i+=1\n",
        "    print(r)\n",
        "main()"
      ],
      "metadata": {
        "id": "6BrRj3kKfcsw"
      },
      "execution_count": null,
      "outputs": []
    },
    {
      "cell_type": "markdown",
      "source": [
        "Questão 32 - Escreva um programa que lê uma string e imprime \"SIM\" se a string é formada únicamente de caracteres únicos e \"NAO\", caso contrário."
      ],
      "metadata": {
        "id": "ShsXxVlMfc_A"
      }
    },
    {
      "cell_type": "code",
      "source": [
        "def main():\n",
        "    a = str(input())\n",
        "    ver = True\n",
        "    i = 0\n",
        "    l = []\n",
        "    while i < len(a) and ver:\n",
        "      s = a[i]\n",
        "      if s in l:\n",
        "        ver = False\n",
        "      else:\n",
        "        l.append(s)\n",
        "      i+=1\n",
        "\n",
        "    if ver:\n",
        "      print(\"SIM\")\n",
        "    else:\n",
        "      print(\"NAO\")\n",
        "main()"
      ],
      "metadata": {
        "id": "U67jc_JQfebW"
      },
      "execution_count": null,
      "outputs": []
    },
    {
      "cell_type": "markdown",
      "source": [
        "Questão 33 - Escreva um programa que lê uma string e imprime \"SIM\" se a string é formada únicamente de caracteres únicos e \"NAO\", caso contrário.\n",
        "\n",
        "Exemplo 01:\n",
        "- Entrada:\n",
        "abcdefg\n",
        "- Saída:\n",
        "SIM\n",
        "\n"
      ],
      "metadata": {
        "id": "Hk1tyHwifevm"
      }
    },
    {
      "cell_type": "code",
      "source": [
        "#verificar\n",
        "a = str(input())\n",
        "\n",
        "if len(a)== 0 or len(a) == 1:\n",
        "  print(\"PALINDROMO\")\n",
        "elif len(a)%2 == 0:\n",
        "  l = a[0:len(a)//2]\n",
        "  q = a[(len(a)//2):len(a)]\n",
        "  #print(\"l:\",l)\n",
        "  #print(\"q:\",q)\n",
        "  ver = True\n",
        "  i = 0\n",
        "  j = len(q) - 1\n",
        "  #print(\"j:\",j)\n",
        "  while i < len(l) and ver:\n",
        "    if l[i] != q[j]:\n",
        "      ver = False\n",
        "    i+=1\n",
        "    j-=1\n",
        "  if ver:\n",
        "    print(\"PALINDROMO\")\n",
        "  else:\n",
        "    print(\"NÃO PALINDROMO\")\n",
        "\n",
        "else:\n",
        "  l = a[0:len(a)//2]\n",
        "  q = a[1 + (len(a)//2):len(a)]\n",
        "  #print(\"l:\",l)\n",
        "  #print(\"q:\",q)\n",
        "  ver = True\n",
        "  i = 0\n",
        "  j = len(q) - 1\n",
        "  #print(\"j:\",j)\n",
        "  while i < len(l) and ver:\n",
        "    if l[i] != q[j]:\n",
        "      ver = False\n",
        "    i+=1\n",
        "    j-=1\n",
        "  if ver:\n",
        "    print(\"PALINDROMO\")\n",
        "  else:\n",
        "    print(\"NÃO PALINDROMO\")"
      ],
      "metadata": {
        "colab": {
          "base_uri": "https://localhost:8080/"
        },
        "id": "NZC_RcEgfgEu",
        "outputId": "c2b96e2c-63f6-41dd-aa3c-089c0c4f6025"
      },
      "execution_count": null,
      "outputs": [
        {
          "output_type": "stream",
          "name": "stdout",
          "text": [
            "asa\n",
            "PALINDROMO\n"
          ]
        }
      ]
    },
    {
      "cell_type": "markdown",
      "source": [
        "Questão 34 - ado um número n estritamente positivo, imprima uma matriz de n por n que começa com 1 no centro, vai para a direita e segue aumentando em espiral, conforma mostrado nos exemplos:\n",
        "\n",
        "Exemplo 01:\n",
        "- Entrada\n",
        "3\n",
        "- Saída:\n",
        "7 8 9\n",
        "6 1 2\n",
        "5 4 3"
      ],
      "metadata": {
        "id": "yrHq7MZsWR8D"
      }
    },
    {
      "cell_type": "code",
      "source": [
        "def par(y):\n",
        "  if y%2 != 0:\n",
        "    return(False)\n",
        "  else:\n",
        "    return(True)\n",
        "#verifica se y é par\n",
        "def matriz_zero(n):\n",
        "  i = 0\n",
        "  r = []\n",
        "  r1 = []\n",
        "  while i < n:\n",
        "    j = 0\n",
        "    s = []\n",
        "    s1 = []\n",
        "    while j < n:\n",
        "      s.append(0)\n",
        "      s1.append(0)\n",
        "      j+=1\n",
        "    r.append(s)\n",
        "    r1.append(s1)\n",
        "    i+=1\n",
        "  return(r,r1)#cria uma matriz vazia\n",
        "def diag(x):\n",
        "  s = 1+x*(x-1)\n",
        "  return(s)\n",
        "#valor da diagonal\n",
        "\n",
        "n = int(input())\n",
        "m,m1 = matriz_zero(n) #matriz de zeros\n",
        "#print(\"m:\",m)\n",
        "\n",
        "if par(n): #define o ponto de inicio\n",
        "  i,j = (n//2 -1),(n//2 -1)\n",
        "else:\n",
        "  i,j = (n//2),(n//2)\n",
        "\n",
        "#print(\"i:\",i) #pontos de inicio\n",
        "#print(\"j:\",j)\n",
        "\n",
        "m[i][i] = 1 #ponto inicial\n",
        "#print(m)\n",
        "\n",
        "k = 0\n",
        "while k <= n:#percorre a diagonal,pares\n",
        "  #print(\"k:\",k)\n",
        "  s = diag(k)\n",
        "  m[i][i] = s\n",
        "  #print(\"i:\",i)\n",
        "\n",
        "  pl = (i-1)\n",
        "  v = s\n",
        "  while pl > -1: #preencher linha\n",
        "    v+=1\n",
        "    m[i][pl] = v\n",
        "    pl -= 1\n",
        "\n",
        "  v = s\n",
        "  pc = (i-1)\n",
        "  while pc > -1: #preencher coluna\n",
        "    v-=1\n",
        "    m[pc][i] = v\n",
        "    pc -=1\n",
        "\n",
        "  i+=1\n",
        "  k+=2\n",
        "#print(\"m_pares:\",m)\n",
        "\n",
        "k = 3\n",
        "j = j - 1\n",
        "while k <= n: #percorrer a diagonal,impares (não percorre os valores pares)\n",
        "  s = diag(k)\n",
        "  #print(\"s:\",s)\n",
        "  m[j][j] = s\n",
        "\n",
        "  y = 0\n",
        "  pl = (j+1)\n",
        "  v = s\n",
        "  while y < k-1: #preenche linha\n",
        "    v+=1\n",
        "    m[j][pl] = v\n",
        "    pl+=1\n",
        "    y+=1\n",
        "\n",
        "  y = 0\n",
        "  pc = (j+1)\n",
        "  v = s\n",
        "  while y < k-1: #preenche coluna\n",
        "    v-=1\n",
        "    m[pc][j] = v\n",
        "    pc +=1\n",
        "    y+=1\n",
        "\n",
        "  j-=1\n",
        "  k+=2\n",
        "\n",
        "i = 0\n",
        "while i < len(m): #print\n",
        "  j = 0\n",
        "  ver = True\n",
        "  while j < len(m[i]):\n",
        "    if ver:\n",
        "      ver = False\n",
        "      print(\"%2d \" % m[i][j],end=\"\")\n",
        "    else:\n",
        "      print(\"%2d \" % m[i][j],sep=\"\",end=\"\")\n",
        "    j+=1\n",
        "  print(\"\\n\",end=\"\")\n",
        "  i+=1"
      ],
      "metadata": {
        "id": "LAiwUJoNWYjY"
      },
      "execution_count": null,
      "outputs": []
    },
    {
      "cell_type": "markdown",
      "source": [
        "Questão 35 - Os elementos aij de uma matriz inteira An×n representam os custos de transporte da cidade i para a cidade j. Dados um inteiro positivo n, uma matriz inteira An×n, um inteiro l, seguido de l+1 números de cidade, calcule o custo total do caminho dado. Um caminho com um único elemento deve ter custo 0.\n",
        "\n",
        "Exemplo 01:\n",
        "- Entrada\n",
        "7\n",
        "0 84 89 39 99 12 83\n",
        "91 0 31 45 27 43 66\n",
        "75 6 0 21 46 39 35\n",
        "10 42 74 0 27 99 98\n",
        "59 95 92 66 0 92 97\n",
        "43 20 94 91 88 0 61\n",
        "20 97 16 15 15 17 0\n",
        "8\n",
        "5 1 5 0 5 6 1 6 3\n",
        "\n",
        "Saída:\n",
        "357"
      ],
      "metadata": {
        "id": "OB76bwX9WY1i"
      }
    },
    {
      "cell_type": "code",
      "source": [
        "def main():\n",
        "    def t_input():\n",
        "      l = input().split(\"  \")\n",
        "      q = []\n",
        "      #print(\"l:\",l)\n",
        "      for x in l:\n",
        "        if \"  \" in x:\n",
        "          q.append(int(x[2]))\n",
        "        elif \" \" in x:\n",
        "          q.append(int(x[1]+x[2]))\n",
        "        elif x != \"\":\n",
        "          q.append(int(x))\n",
        "      return(q)\n",
        "    def t1_input():\n",
        "      l1 = input()\n",
        "      q1 = []\n",
        "      i = 0\n",
        "      y = \"\"\n",
        "      while i < len(l1):\n",
        "        if l1[i] == \" \" and y != \"\":\n",
        "          q1.append(int(y))\n",
        "          y = \"\"\n",
        "        else:\n",
        "          y += l1[i]\n",
        "        i+=1\n",
        "      if y != \"\":\n",
        "        q1.append(int(y))\n",
        "      return(q1)\n",
        "    #obs: ficou meio tosco mas é o que pra fazer no celular\n",
        "    n = int(input())\n",
        "    m = []\n",
        "\n",
        "    i = 0\n",
        "    while i < n: #leitura da matriz\n",
        "      m.append(t_input())\n",
        "      i+=1\n",
        "    #print(\"matriz:\",m)\n",
        "    l = int(input())\n",
        "\n",
        "    if l == 0:\n",
        "      a = int(input())\n",
        "      print(0)\n",
        "    else:\n",
        "      soma = 0\n",
        "      caminho = t1_input()\n",
        "      #print(\"caminho:\",caminho)\n",
        "      i = 0\n",
        "      while i < len(caminho)-1:\n",
        "        soma += m[caminho[i]][caminho[i+1]]\n",
        "        i+=1\n",
        "      print(soma)\n",
        "main()"
      ],
      "metadata": {
        "id": "mP5OtRqQWevA"
      },
      "execution_count": null,
      "outputs": []
    },
    {
      "cell_type": "markdown",
      "source": [
        "Questão 36 - Data dois números inteiros positivos me n e em seguida uma sequência de m * n números, sendo esta os elementos de uma matriz mxn, escreva um progama que imprima a transposta desta matriz."
      ],
      "metadata": {
        "id": "2OM-7ePOInWS"
      }
    },
    {
      "cell_type": "code",
      "source": [
        "def main():\n",
        "    m = int(input())\n",
        "    n = int(input())\n",
        "    l = []\n",
        "    i = 0\n",
        "    while i < m: #matriz\n",
        "      q = []\n",
        "      j = 0\n",
        "      while j < n:\n",
        "        q.append(int(input()))\n",
        "        j+=1\n",
        "      l.append(q)\n",
        "      i+=1\n",
        "    #matriz: l\n",
        "    r = []\n",
        "    #print(\"l:\",l)\n",
        "    i = 0\n",
        "    while i < len(l[0]):\n",
        "      s = []\n",
        "      j = 0\n",
        "      while j < len(l):\n",
        "        s.append(l[j][i])\n",
        "        j+=1\n",
        "      i+=1\n",
        "      #print(\"s:\",s)\n",
        "      r.append(s)\n",
        "    #print(\"r:\",r)\n",
        "    for x in r:\n",
        "      print(x)\n",
        "main()"
      ],
      "metadata": {
        "id": "w1SBUh1aIo8T"
      },
      "execution_count": null,
      "outputs": []
    },
    {
      "cell_type": "markdown",
      "source": [
        "Questão 37 - Escreva um programa que tenha como entrada um texto e como saída a(s) palavra(s) que aparece(m) com maior frequência conforme os exemplos abaixo.\n",
        "Exemplo 2:\n",
        "\n",
        "entrada:\n",
        "Nossos sonhos são os mesmos há muito tempo, mas não há mais muito tempo pra sonhar\n",
        "\n",
        "saída:\n",
        "['há', 2]\n",
        "['muito', 2]\n",
        "['tempo', 2]"
      ],
      "metadata": {
        "id": "tCqPcSyw_D-r"
      }
    },
    {
      "cell_type": "code",
      "source": [
        "def main():\n",
        "    l1 = input().split(\" \")\n",
        "    l = []\n",
        "    for i in l1:\n",
        "      b = i.strip(\",\")\n",
        "      b = b.upper()\n",
        "      l.append(b)\n",
        "    #print(\"l1:\",l1)\n",
        "    #print(\"l:\",l)\n",
        "\n",
        "    #receber todas as palavras\n",
        "    palavras = []\n",
        "\n",
        "    for x in l:\n",
        "      x = x.strip(\",\")\n",
        "      x = x.upper()\n",
        "      if x not in palavras:\n",
        "        palavras.append(x)\n",
        "    #print(\"palavras:\",palavras)\n",
        "\n",
        "    #criar matriz\n",
        "    matriz = []\n",
        "\n",
        "    i = 0\n",
        "    while i < len(palavras):\n",
        "      s = palavras[i]\n",
        "      j = 0\n",
        "      n = 0\n",
        "      linha = []\n",
        "      while j < len(l):\n",
        "        if l[j] == s:\n",
        "          n+=1\n",
        "        j+=1\n",
        "      linha.append(s)\n",
        "      linha.append(n)\n",
        "      matriz.append(linha)\n",
        "      i+=1\n",
        "    #print(\"matriz:\",matriz)\n",
        "\n",
        "    #verificar qual o maior indice (retorna maior)\n",
        "    maior = 0\n",
        "\n",
        "    i = 0\n",
        "    while i < len(matriz):\n",
        "      s = matriz[i][1]\n",
        "      if s > maior:\n",
        "        maior = s\n",
        "      i+=1\n",
        "    #print(\"maior:\",maior)\n",
        "\n",
        "    #print\n",
        "\n",
        "    s = 0\n",
        "    j = 0\n",
        "\n",
        "    while j < len(matriz):\n",
        "      if matriz[j][1] == maior:\n",
        "        s = matriz[j][0]\n",
        "        i = 0\n",
        "        ver = True\n",
        "        while i < len(l1) and ver:\n",
        "          s1 = l1[i].upper()\n",
        "          s1 = s1.strip(\",\")\n",
        "          li = []\n",
        "          if s1 == s and ver:\n",
        "            li.append(l1[i].strip(\",\"))\n",
        "            li.append(maior)\n",
        "            print(li)\n",
        "            #print(\"indice:\",l1[i].strip(\",\"),\"qtde:\",maior)\n",
        "            ver = False\n",
        "          i+=1\n",
        "      j+=1\n",
        "main()"
      ],
      "metadata": {
        "id": "0gNUQB0k_Ttw"
      },
      "execution_count": null,
      "outputs": []
    },
    {
      "cell_type": "markdown",
      "source": [
        "Questão 38 - Dizemos que uma matriz quadrada inteira é um quadrado mágico se a soma dos elementos de cada linha, a soma dos elementos de cada coluna e a soma dos elementos das diagonais principal e secundária são todas iguais. Escreva um programa que receberá como entrada um número positivo n >= 3 e em seguida n linhas da matriz quadrada, ou seja, cada linha é uma string contendo os número da respectiva linha da matriz. O seu programa deverá imprimir 'QUADRADO MÁGICO' se a matriz for um quadrado mágico do contrário imprimir 'NÃO MÁGICO'. Exemplo 1:\n",
        "- entrada:\n",
        "3\n",
        "13 6 11\n",
        "8 10 12\n",
        "9 14 7\n",
        "- saída:\n",
        "QUADRADO MÁGICO"
      ],
      "metadata": {
        "id": "DAiTuVnc_UFQ"
      }
    },
    {
      "cell_type": "code",
      "source": [
        "def soma_l(l):\n",
        "  s = 0\n",
        "  for x in l:\n",
        "    s+=x\n",
        "  return(s)\n",
        "\n",
        "def l_input():\n",
        "  l = input().split()\n",
        "  q = []\n",
        "  for x in l:\n",
        "    q.append(float(x))\n",
        "  return(q)\n",
        "\n",
        "m = int(input())\n",
        "l = []\n",
        "\n",
        "i = 0\n",
        "while i < m:\n",
        "  l.append(l_input())\n",
        "  i+=1\n",
        "#print(\"l:\",l)\n",
        "\n",
        "ver = True\n",
        "\n",
        "#valor esperado\n",
        "s = 0\n",
        "for y in l[0]:\n",
        "  s+=y\n",
        "\n",
        "#print(\"valor esperado:\",s)\n",
        "\n",
        "#verificar linhas:\n",
        "\n",
        "for x in l:\n",
        "  if soma_l(x) != s and ver:\n",
        "    #print(\"x:\",x)\n",
        "    ver = False\n",
        "\n",
        "#verificar colunas:\n",
        "\n",
        "i = 0\n",
        "col = 0\n",
        "while i < len(l) and ver:\n",
        "  j = 0\n",
        "  while j < len(l) and ver:\n",
        "    #print(\"indice i:\",i,\"indice j:\",j)\n",
        "    col += l[j][i]\n",
        "    j+=1\n",
        "  #print(\"col:\",col)\n",
        "  if s != col:\n",
        "    ver = False\n",
        "  col = 0\n",
        "  i+=1\n",
        "\n",
        "#verificar diagonal principal:\n",
        "\n",
        "i = 0\n",
        "diag = 0\n",
        "while i < len(l) and ver:\n",
        "  diag += l[i][i]\n",
        "  i += 1\n",
        "if s != diag:\n",
        "  ver = False\n",
        "\n",
        "#verificar diagonal secundária:\n",
        "\n",
        "i = len(l)-1\n",
        "diags = 0\n",
        "while i > -1 and ver:\n",
        "  diags += l[i][i]\n",
        "  i -= 1\n",
        "if s != diags:\n",
        "  ver = False\n",
        "\n",
        "#final\n",
        "\n",
        "if ver:\n",
        "  print(\"QUADRADO MÁGICO\")\n",
        "else:\n",
        "  print(\"NÃO MÁGICO\")\n"
      ],
      "metadata": {
        "id": "o8X1e4eM_bw5"
      },
      "execution_count": null,
      "outputs": []
    },
    {
      "cell_type": "markdown",
      "source": [
        "Questão 39 - Escreva um programa que recebe uma string composta por letras minúsculas e faz uma compressão que conta o número de letras iguais que aparecem de forma contígua, formando uma string formada por caracteres seguidos de suas frequências, conforme nos exemplos.\n",
        "Exemplo 01\n",
        "- Entrada:\n",
        "aabcccccaaa\n",
        "- Saída:\n",
        "a2b1c5a3"
      ],
      "metadata": {
        "id": "-BprySRN_cM3"
      }
    },
    {
      "cell_type": "code",
      "source": [
        "l = input()\n",
        "n = 1\n",
        "r = \"\"\n",
        "a = l[0]\n",
        "\n",
        "i = 1\n",
        "while i < len(l):\n",
        "  s = l[i]\n",
        "  if a == s:\n",
        "    n+=1\n",
        "  else:\n",
        "    r+=a\n",
        "    r+=str(n)\n",
        "    n = 1 #recomeça a contagem\n",
        "    a = s #muda a letra a ser analisada\n",
        "  i+=1\n",
        "r+=a\n",
        "r+=str(n)\n",
        "print(r)"
      ],
      "metadata": {
        "id": "hc6OS4J5_g-y"
      },
      "execution_count": null,
      "outputs": []
    },
    {
      "cell_type": "markdown",
      "source": [
        "Questão 40 - Escreva um programa que recebe uma string composta apenas de letras mínusculas e imprime SIM se a string é uma permutação de um palíndromo e NAO, caso contrário.\n",
        ""
      ],
      "metadata": {
        "id": "zFlqvzgq_hoh"
      }
    },
    {
      "cell_type": "code",
      "source": [
        "def par(y):\n",
        "  if y%2 != 0:\n",
        "    return(False)\n",
        "  else:\n",
        "    return(True)\n",
        "\n",
        "\n",
        "def letras(l):\n",
        "  q = []\n",
        "  for x in l:\n",
        "    if x not in q:\n",
        "      q.append(x)\n",
        "  return(q)\n",
        "\n",
        "\n",
        "\n",
        "def indices(l):\n",
        "  q = letras(l)\n",
        "  n = []\n",
        "  for x in q:\n",
        "    s = 0\n",
        "    for y in l:\n",
        "      if x == y:\n",
        "        s+=1\n",
        "    n.append(s)\n",
        "  return(n)\n",
        "\n",
        "\n",
        "\n",
        "l = input()\n",
        "#print(indices(l))\n",
        "\n",
        "indices = indices(l)\n",
        "par_l = par(len(l))\n",
        "ver = True\n",
        "\n",
        "if par_l:\n",
        "  #print(\"é par\")\n",
        "  i = 0\n",
        "  while i < len(indices) and ver:\n",
        "    if par(indices[i]) == False:\n",
        "      ver = False\n",
        "    i+=1\n",
        "else:\n",
        "  #print(\"é impar\")\n",
        "  ver_impar = True\n",
        "  i = 0\n",
        "  while i < len(indices):\n",
        "    if par(indices[i]) == False and ver_impar:\n",
        "      ver_impar = False\n",
        "    elif par(indices[i]) == False and ver_impar == False:\n",
        "      ver = False\n",
        "    i+=1\n",
        "if ver:\n",
        "  print(\"SIM\")\n",
        "else:\n",
        "  print(\"NAO\")"
      ],
      "metadata": {
        "id": "7Dmxcp73_ncj"
      },
      "execution_count": null,
      "outputs": []
    },
    {
      "cell_type": "markdown",
      "source": [
        "Questão 41 - Escreva um programa que ordena em ordem alfabética uma lista de palavras. A ordenação deve ser feita em profundidade, por exemplo: Cebola e Cereja, ambas começam com Ce logo, para verificar qual palavra vem primeiro, deve-se comparar a próxima letra b e r, como b vem antes de r então a palavra Cebola deverá ficar antes de Cereja. Exemplo 1:\n",
        "\n",
        "entrada:\n",
        "5\n",
        "Macarrão\n",
        "Sardinha\n",
        "Cereja\n",
        "Cebola\n",
        "Trigo\n",
        "\n",
        "saída:\n",
        "Cebola\n",
        "Cereja\n",
        "Macarrão\n",
        "Sardinha\n",
        "Trigo"
      ],
      "metadata": {
        "id": "2nyZZ_hdPRW3"
      }
    },
    {
      "cell_type": "code",
      "source": [
        "def ver_p(a,b):\n",
        "  if len(a) > len(b):\n",
        "    s = len(b)\n",
        "  else:\n",
        "    s = len(a)\n",
        "  i = 0\n",
        "  while i < s:\n",
        "    if a[i] > b[i]:\n",
        "      return(False)\n",
        "    elif b[i] > a[i]:\n",
        "      return(True)\n",
        "    else:\n",
        "      i+=1\n",
        "  if len(a) < len(b):\n",
        "    return(True)\n",
        "  else:\n",
        "    return(False)\n",
        "\n",
        "def ord_inser(l):\n",
        "  i = 1\n",
        "  while i < len(l):\n",
        "    s = l[i]\n",
        "    j = i - 1\n",
        "    while j > -1 and ver_p(s,l[j]):\n",
        "      l[j+1] = l[j]\n",
        "      j-=1\n",
        "    l[j+1] = s\n",
        "    i+=1\n",
        "  return(l)\n",
        "\n",
        "n = int(input())\n",
        "l = []\n",
        "i = 0\n",
        "while i < n:\n",
        "  l.append(input())\n",
        "  i+=1\n",
        "#print(\"l:\",l)\n",
        "\n",
        "l = ord_inser(l)\n",
        "#print(\"l ordenado:\",l)\n",
        "\n",
        "for x in l:\n",
        "  print(x)\n",
        "\n"
      ],
      "metadata": {
        "id": "N-FOQLThaCWR"
      },
      "execution_count": null,
      "outputs": []
    },
    {
      "cell_type": "markdown",
      "source": [
        "Questão 42 - Escreva um programa que receba uma matriz Mn×3 onde cada linha dessa matriz corresponde a uma data, ou seja, a primeira coluna corresponde ao dia, a segunda coluna corresponde ao mês e a terceira coluna corresponde ao ano. O seu programa deve ordenar as linhas desta matriz em ordem cronológica crescente. Exemplo 1:\n",
        "- entrada:\n",
        "6\n",
        "25 6 1965\n",
        "16 6 1965\n",
        "13 12 1941\n",
        "21 4 1965\n",
        "6 2 1989\n",
        "1 10 1973\n",
        "- saída:\n",
        "13/12/1941\n",
        "21/04/1965\n",
        "16/06/1965\n",
        "25/06/1965\n",
        "01/10/1973\n",
        "06/02/1989"
      ],
      "metadata": {
        "id": "eMgBPhxpaFUd"
      }
    },
    {
      "cell_type": "code",
      "source": [
        "def main():\n",
        "    def t_l(a,b):\n",
        "      if a[2] > b[2]:\n",
        "        return(True)\n",
        "      elif (a[2] == b[2]) and (a[1]>b[1]):\n",
        "        return(True)\n",
        "      elif (a[2] == b[2]) and (a[1] == b[1]) and (a[0] > b[0]):\n",
        "        return(True)\n",
        "      else:\n",
        "        return(False)\n",
        "\n",
        "    def ord_gen(l):\n",
        "      i = 1\n",
        "      while i < len(l):\n",
        "        s = l[i]\n",
        "        j = i - 1\n",
        "        while j > -1 and t_l(l[j],s):\n",
        "          l[j+1] = l[j]\n",
        "          j-=1\n",
        "        l[j+1] = s\n",
        "        i+=1\n",
        "      return(l)\n",
        "\n",
        "\n",
        "\n",
        "    def input_m():\n",
        "      n = int(input())\n",
        "      i = 0\n",
        "      m = []\n",
        "      while i < n:\n",
        "        a = input().split()\n",
        "        j = 0\n",
        "        while j < len(a):\n",
        "          a[j] = int(a[j])\n",
        "          j+=1\n",
        "        m.append(a)\n",
        "        i+=1\n",
        "      return(m)\n",
        "\n",
        "    m = input_m()\n",
        "    #print(\"m:\",m)\n",
        "    m = ord_gen(m)\n",
        "    #print(\"m ordenado:\",m)\n",
        "\n",
        "    i = 0\n",
        "    while i < len(m):\n",
        "      a = m[i][0]\n",
        "      b = m[i][1]\n",
        "      if m[i][0] <= 9:\n",
        "        a = \"0\"+str(m[i][0])\n",
        "      if m[i][1] <= 9:\n",
        "        b = \"0\"+str(m[i][1])\n",
        "      print(a,b,m[i][2],sep=\"/\")\n",
        "      i+=1\n",
        "\n",
        "main()"
      ],
      "metadata": {
        "id": "Iq7-EjX6aOF4"
      },
      "execution_count": null,
      "outputs": []
    },
    {
      "cell_type": "markdown",
      "source": [
        "Questão 43 - Escreva um programa que calcula o máximo de uma lista de inteiros. Você deve escrever a função que calcula o máximo da lista como uma função recursiva. A entrada consiste em um número n maior que 0 seguido de n números inteiros que cosntituem a lista."
      ],
      "metadata": {
        "id": "yt3PgDjipSCw"
      }
    },
    {
      "cell_type": "code",
      "source": [
        "def entrada():\n",
        "  n = int(input())\n",
        "  l = []\n",
        "  i = 0\n",
        "  while i < n:\n",
        "    l.append(int(input()))\n",
        "    i+=1\n",
        "  return(l)\n",
        "\n",
        "l = entrada()\n",
        "indice = l[0]\n",
        "\n",
        "def max_l(s,l,cont):\n",
        "  if cont == len(l):\n",
        "    return(s)\n",
        "  elif l[cont] > s:\n",
        "    return(max_l(l[cont],l,cont+1))\n",
        "  else:\n",
        "    return(max_l(s,l,cont+1))\n",
        "\n",
        "\n",
        "maximo = max_l(l[0],l,1)\n",
        "print(maximo)"
      ],
      "metadata": {
        "id": "Ojhj-kDxU005"
      },
      "execution_count": null,
      "outputs": []
    },
    {
      "cell_type": "markdown",
      "source": [
        "Questão 44 - Uma possível implementação recursiva da função de Fibonacci é a seguinte:\n",
        "\n",
        "def fibo(n):\n",
        "\n",
        "  if n <= 1:  \n",
        "        return 1    \n",
        " return fibo(n - 1) + fibo(n - 2)\n",
        "Entretanto, essa versão recursiva da função de Fibonacci calcula um mesmo termo repetidas vezes, o que faz com que ela seja extremamente ineficiente.\n",
        "\n",
        "Implemente uma versão recursiva da função de Fibonacci que não calcule um mesmo termo duas vezes.\n",
        "\n",
        "A assinatura da função chamada pelo cliente deve ser fibo(n)."
      ],
      "metadata": {
        "id": "43T0GyH4U2Jt"
      }
    },
    {
      "cell_type": "code",
      "source": [
        "def fibo_aux(a,b):\n",
        "  soma = a+b\n",
        "  a = b\n",
        "  b = soma\n",
        "  return(a,b,soma)\n",
        "\n",
        "def fibo(n):\n",
        "  i = 2\n",
        "  a,b = 1,1\n",
        "  while i < n:\n",
        "    a,b,soma = fibo_aux(a,b)\n",
        "    i+=1\n",
        "  return(b)\n",
        "\n",
        "n = int(input())\n",
        "print(\"fibo:\",fibo(n))\n",
        "\n"
      ],
      "metadata": {
        "id": "OIdhf_4ZU7Wx"
      },
      "execution_count": null,
      "outputs": []
    },
    {
      "cell_type": "markdown",
      "source": [
        "Outra solução (acho que a versão correta):"
      ],
      "metadata": {
        "id": "NC76dA3Gk5F3"
      }
    },
    {
      "cell_type": "code",
      "source": [
        "n = int(input())\n",
        "\n",
        "def fibo(n):\n",
        "  if n==0 or n==1:\n",
        "    return(1)\n",
        "  else:\n",
        "    return(fibo_aux(1,1,n))\n",
        "def fibo_aux(a,b,n):\n",
        "  if n == 2:\n",
        "    return(a+b)\n",
        "  else:\n",
        "    return(fibo_aux(b,a+b,n-1))\n",
        "\n",
        "print(fibo(n))"
      ],
      "metadata": {
        "id": "1_WeLXc8lEWm"
      },
      "execution_count": null,
      "outputs": []
    },
    {
      "cell_type": "markdown",
      "source": [
        "Questão 45 - Escreve uma programa que terá como entrada a > 0 e b >= 0, números inteiros. Com base nestes o seu programa deverá retorna o resultado de ab. Implemente utilizando recursão."
      ],
      "metadata": {
        "id": "P55_OSnPmkb2"
      }
    },
    {
      "cell_type": "code",
      "source": [
        "def entrada():\n",
        "  a = int(input())\n",
        "  b = int(input())\n",
        "  return(a,b)\n",
        "\n",
        "a,b = entrada()\n",
        "\n",
        "def exp(a,b):\n",
        "  if b == 0:\n",
        "    return(1)\n",
        "  else:\n",
        "    return(a*(exp(a,b-1)))\n",
        "\n",
        "print(exp(a,b))"
      ],
      "metadata": {
        "id": "UsVcEKx_j8al"
      },
      "execution_count": null,
      "outputs": []
    },
    {
      "cell_type": "markdown",
      "source": [
        "Questão 46 - Para praticar o uso da recursão faça um código que conte até n > 0 só que de forma recursiva, ou seja, sem usar a palavra chave while ou for."
      ],
      "metadata": {
        "id": "SEQKSLnikBMT"
      }
    },
    {
      "cell_type": "code",
      "source": [
        "n = int(input())\n",
        "\n",
        "def cont(i,n):\n",
        "  if i == n:\n",
        "    print(i, end='')\n",
        "  else:\n",
        "    print(i, end=' ')\n",
        "    return(cont((i+1),n))\n",
        "cont(1,n)\n",
        ""
      ],
      "metadata": {
        "id": "W0RVSpgG7fwI"
      },
      "execution_count": null,
      "outputs": []
    },
    {
      "cell_type": "markdown",
      "source": [
        "Questão 47 - Escreva uma função recursiva que recebe um número n e uma lista ordenada l em ordem crescente (com elementos distintos) e devolve o índice i tal que l[i] == n se n pertence à lista e -1 caso contrário. Sua função deve implementar uma versão recursiva da busca binária.\n",
        "Exemplo 1:\n",
        "- entrada:\n",
        "3\n",
        "3 5 7\n",
        "- saída:\n",
        "A lista contém 3"
      ],
      "metadata": {
        "id": "Kl8s5O5B7i-Q"
      }
    },
    {
      "cell_type": "code",
      "source": [
        "def entrada():\n",
        "  q = int(input())\n",
        "  n = input().split()\n",
        "  l = []\n",
        "  i = 0\n",
        "  while i < len(n):\n",
        "    l.append(int(n[i]))\n",
        "    i+=1\n",
        "  return(q,l)\n",
        "\n",
        "def busca_binaria(l,menor,maior,q):\n",
        "    if maior >= menor:\n",
        "        meio = (maior + menor) // 2\n",
        "\n",
        "        if l[meio] == q:\n",
        "            return (meio)\n",
        "        elif l[meio] > q:\n",
        "            return (busca_binaria(l,menor,(meio - 1),q))\n",
        "        else:\n",
        "            return (busca_binaria(l,(meio + 1),maior,q))\n",
        "    else:\n",
        "        return (-1)\n",
        "\n",
        "num,lista = entrada()\n",
        "k = len(lista)-1\n",
        "\n",
        "indice = busca_binaria(lista,0,k,num)\n",
        "\n",
        "if indice != -1:\n",
        "    print(\"A lista contém\",num)\n",
        "else:\n",
        "    print(\"A lista não contém\",num)"
      ],
      "metadata": {
        "id": "Y5_DdvFZ7kyc"
      },
      "execution_count": null,
      "outputs": []
    },
    {
      "cell_type": "markdown",
      "source": [
        "Questão 48 - Escreva um programa que tem como entrada duas listas ordenadas de forma ascendente. O seu programa deverar imprimir o resultado ordenado de forma ascendente da concatenação (união) destas duas listas.\n",
        "Entrada:\n",
        "1 2 3\n",
        "2 3\n",
        "Saída:\n",
        "[1, 2, 2, 3, 3]"
      ],
      "metadata": {
        "id": "SdyuPjrE6Nvu"
      }
    },
    {
      "cell_type": "code",
      "source": [
        "def entrada():\n",
        "  lista_1 = [int(n) for n in input().split()]\n",
        "  lista_2 = [int(n) for n in input().split()]\n",
        "  return(lista_1,lista_2)\n",
        "\n",
        "l,q = entrada()\n",
        "r = []\n",
        "\n",
        "def conca_l(l,q,r):\n",
        "  if len(l) == 0:\n",
        "    for x in q:\n",
        "      r.append(x)\n",
        "  elif len(q) == 0:\n",
        "      for x in l:\n",
        "        r.append(x)\n",
        "  else:\n",
        "    if l[0] == q[0]:\n",
        "      r.append(l[0])\n",
        "      r.append(q[0])\n",
        "      return(conca_l(l[1:],q[1:],r))\n",
        "\n",
        "    elif l[0] < q[0]:\n",
        "      r.append(l[0])\n",
        "      return(conca_l(l[1:],q,r))\n",
        "\n",
        "    else:\n",
        "      r.append(q[0])\n",
        "      return(conca_l(l,q[1:],r))\n",
        "conca_l(l,q,r)\n",
        "print(r)"
      ],
      "metadata": {
        "id": "tXL_3NqB6O2k"
      },
      "execution_count": null,
      "outputs": []
    },
    {
      "cell_type": "markdown",
      "source": [
        "Questão 49 - a"
      ],
      "metadata": {
        "id": "BMNjQUMYi55g"
      }
    },
    {
      "cell_type": "code",
      "source": [
        "a"
      ],
      "metadata": {
        "id": "bi3VFkv3i7m5"
      },
      "execution_count": null,
      "outputs": []
    }
  ]
}